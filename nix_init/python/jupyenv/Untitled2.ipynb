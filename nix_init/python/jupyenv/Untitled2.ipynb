{
 "cells": [
  {
   "cell_type": "code",
   "execution_count": 2,
   "id": "09e12bf0-b5a2-406b-85d4-4fde7f5f7158",
   "metadata": {
    "tags": []
   },
   "outputs": [],
   "source": [
    "var a = 1 + 1"
   ]
  },
  {
   "cell_type": "code",
   "execution_count": 3,
   "id": "f75cec7e-c69e-4c3a-ae85-8353db1c4472",
   "metadata": {
    "tags": []
   },
   "outputs": [],
   "source": [
    "import \"fmt\""
   ]
  },
  {
   "cell_type": "code",
   "execution_count": 4,
   "id": "965be5c4-3c26-4c34-9b61-fd8ac78acda2",
   "metadata": {
    "tags": []
   },
   "outputs": [
    {
     "name": "stdout",
     "output_type": "stream",
     "text": [
      "a: 2\n"
     ]
    },
    {
     "data": {
      "text/plain": [
       "5 <nil>"
      ]
     },
     "execution_count": 4,
     "metadata": {},
     "output_type": "execute_result"
    }
   ],
   "source": [
    "fmt.Println(\"a:\", a)"
   ]
  },
  {
   "cell_type": "code",
   "execution_count": null,
   "id": "427542e7-62a8-4bc7-8663-26bd69e9bcee",
   "metadata": {},
   "outputs": [],
   "source": []
  }
 ],
 "metadata": {
  "kernelspec": {
   "display_name": "go-minimal-example kernel",
   "language": "go",
   "name": "go-minimal-example"
  },
  "language_info": {
   "codemirror_mode": "",
   "file_extension": ".go",
   "mimetype": "",
   "name": "go",
   "nbconvert_exporter": "",
   "pygments_lexer": "",
   "version": "go1.19.4"
  }
 },
 "nbformat": 4,
 "nbformat_minor": 5
}
